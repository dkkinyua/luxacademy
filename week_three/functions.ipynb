{
 "cells": [
  {
   "cell_type": "code",
   "execution_count": 1,
   "metadata": {},
   "outputs": [
    {
     "data": {
      "text/plain": [
       "100"
      ]
     },
     "execution_count": 1,
     "metadata": {},
     "output_type": "execute_result"
    }
   ],
   "source": [
    "# Declare a function add_two_numbers. It takes two parameters and it returns a sum.\n",
    "\n",
    "def add_two_numbers(n1, n2):\n",
    "    total = n1 + n2\n",
    "    return total\n",
    "\n",
    "add_two_numbers(10, 90)\n"
   ]
  },
  {
   "cell_type": "code",
   "execution_count": 2,
   "metadata": {},
   "outputs": [
    {
     "data": {
      "text/plain": [
       "31420.0"
      ]
     },
     "execution_count": 2,
     "metadata": {},
     "output_type": "execute_result"
    }
   ],
   "source": [
    "# Area of a circle is calculated as follows: area = π x r x r. Write a function that calculates area_of_circle.\n",
    "def area_of_circle(radius):\n",
    "    area = 3.142 * (radius ** 2)\n",
    "    return area\n",
    "\n",
    "area_of_circle(100)"
   ]
  },
  {
   "cell_type": "code",
   "execution_count": 15,
   "metadata": {},
   "outputs": [
    {
     "data": {
      "text/plain": [
       "'There is a non-int value in nums: na'"
      ]
     },
     "execution_count": 15,
     "metadata": {},
     "output_type": "execute_result"
    }
   ],
   "source": [
    "# Write a function called add_all_nums which takes arbitrary number of arguments and sums all the arguments. Check if all the list items are number types. If not do give a reasonable feedback.\n",
    "def add_all_nums(*nums):\n",
    "    total = 0\n",
    "    for i in nums: # loops through args num\n",
    "        if type(i) == int: #checks if the value is an int value\n",
    "            total += i\n",
    "        else:\n",
    "            return f'There is a non-int value in nums: {i}'\n",
    "    return total\n",
    "\n",
    "add_all_nums(2, 10, 7, 'na', 20, 11, True)\n",
    "add_all_nums(2, 10, 7, 100, 20, 11, 45)\n"
   ]
  },
  {
   "cell_type": "code",
   "execution_count": 17,
   "metadata": {},
   "outputs": [
    {
     "name": "stdout",
     "output_type": "stream",
     "text": [
      "Celsius: 30.0 -> Fahrenheit: 86.0\n"
     ]
    }
   ],
   "source": [
    "# Temperature in °C can be converted to °F using this formula: °F = (°C x 9/5) + 32. Write a function which converts °C to °F, convert_celsius_to-fahrenheit.\n",
    "celsius = 30.0\n",
    "def convert_celsius_to_fahrenheit():\n",
    "    fahrenheit = (celsius * (9 / 5)) + 32\n",
    "    print(f'Celsius: {celsius} -> Fahrenheit: {fahrenheit}')\n",
    "\n",
    "convert_celsius_to_fahrenheit()"
   ]
  },
  {
   "cell_type": "code",
   "execution_count": 29,
   "metadata": {},
   "outputs": [
    {
     "data": {
      "text/plain": [
       "'Spring'"
      ]
     },
     "execution_count": 29,
     "metadata": {},
     "output_type": "execute_result"
    }
   ],
   "source": [
    "# Write a function called check_season, it takes a month parameter and returns the season: Autumn, Winter, Spring or Summer.\n",
    "def check_season(month):\n",
    "    seasons = {\n",
    "        'Spring': ['March', 'April', 'May'],\n",
    "        'Summer': ['June', 'July', 'August'],\n",
    "        'Autumn': ['September', 'October', 'November'],\n",
    "        'Winter': ['December', 'January', 'February']\n",
    "    }\n",
    "\n",
    "    for season, months in seasons.items(): \n",
    "        if month in months:\n",
    "            return season\n",
    "    return 'Season not found'\n",
    "    \n",
    "check_season('April')"
   ]
  },
  {
   "cell_type": "code",
   "execution_count": 30,
   "metadata": {},
   "outputs": [
    {
     "data": {
      "text/plain": [
       "-16"
      ]
     },
     "execution_count": 30,
     "metadata": {},
     "output_type": "execute_result"
    }
   ],
   "source": [
    "# Write a function called calculate_slope which return the slope of a linear equation\n",
    "# Linear equation: y = mx + c where c is the slope/gradient.\n",
    "# Slope/Gradient c = y - mx where y = y-coordinate, x = x-coordinate and m = constant\n",
    "\n",
    "y = 8\n",
    "x = 6\n",
    "m = 4\n",
    "\n",
    "def calculate_slope():\n",
    "    slope = y - (m * x)\n",
    "    return slope\n",
    "\n",
    "calculate_slope() "
   ]
  },
  {
   "cell_type": "code",
   "execution_count": null,
   "metadata": {},
   "outputs": [],
   "source": [
    "# Quadratic equation is calculated as follows: ax² + bx + c = 0. Write a function which calculates solution set of a quadratic equation, solve_quadratic_eqn.\n",
    "# Solve later on\n"
   ]
  },
  {
   "cell_type": "code",
   "execution_count": 32,
   "metadata": {},
   "outputs": [
    {
     "name": "stdout",
     "output_type": "stream",
     "text": [
      "John 23 Lux Academy False 32.32 "
     ]
    }
   ],
   "source": [
    "# Declare a function named print_list. It takes a list as a parameter and it prints out each element of the list.\n",
    "\n",
    "x = ['John', 23, 'Lux Academy', False, 32.32]\n",
    "\n",
    "def print_list(l):\n",
    "    for i in l:\n",
    "        print(i, end=' ')\n",
    "\n",
    "print_list(x)"
   ]
  },
  {
   "cell_type": "code",
   "execution_count": 41,
   "metadata": {},
   "outputs": [
    {
     "name": "stdout",
     "output_type": "stream",
     "text": [
      "32.32 False Lux Academy 23 John "
     ]
    }
   ],
   "source": [
    "# Declare a function named reverse_list. It takes an array as a parameter and it returns the reverse of the array (use loops).\n",
    "def reverse_list(l):\n",
    "    for i in l[::-1]:\n",
    "        print(i, end=' ')\n",
    "\n",
    "reverse_list(x)"
   ]
  },
  {
   "cell_type": "code",
   "execution_count": 44,
   "metadata": {},
   "outputs": [
    {
     "name": "stdout",
     "output_type": "stream",
     "text": [
      "April May June July "
     ]
    }
   ],
   "source": [
    "# Declare a function named capitalize_list_items. It takes a list as a parameter and it returns a capitalized list of items\n",
    "y = ['april', 'may', 'june', 'july']\n",
    "def capitalize_list_items(l):\n",
    "    for i in l:\n",
    "        print(i.capitalize(), end=' ')\n",
    "    \n",
    "capitalize_list_items(y)"
   ]
  },
  {
   "cell_type": "code",
   "execution_count": 45,
   "metadata": {},
   "outputs": [
    {
     "data": {
      "text/plain": [
       "['april', 'may', 'june', 'july', 'august']"
      ]
     },
     "execution_count": 45,
     "metadata": {},
     "output_type": "execute_result"
    }
   ],
   "source": [
    "# Declare a function named add_item. It takes a list and an item parameters. It returns a list with the item added at the end.\n",
    "def add_item(l, item):\n",
    "    l.append(item)\n",
    "    return l\n",
    "\n",
    "add_item(y, 'august')"
   ]
  },
  {
   "cell_type": "code",
   "execution_count": 47,
   "metadata": {},
   "outputs": [
    {
     "data": {
      "text/plain": [
       "['april', 'june', 'july', 'august']"
      ]
     },
     "execution_count": 47,
     "metadata": {},
     "output_type": "execute_result"
    }
   ],
   "source": [
    "# Declare a function named remove_item. It takes a list and an item parameters. It returns a list with the item removed from it.\n",
    "def remove_item(l, item):\n",
    "    l.remove(item)\n",
    "    return l\n",
    "\n",
    "remove_item(y, 'may')"
   ]
  },
  {
   "cell_type": "code",
   "execution_count": 50,
   "metadata": {},
   "outputs": [
    {
     "data": {
      "text/plain": [
       "5050"
      ]
     },
     "execution_count": 50,
     "metadata": {},
     "output_type": "execute_result"
    }
   ],
   "source": [
    "# Declare a function named sum_of_numbers. It takes a number parameter and it adds all the numbers in that range.\n",
    "def sum_of_numbers(num):\n",
    "    total = 0\n",
    "    for i in range(0, num + 1):\n",
    "        total += i\n",
    "    return total\n",
    "\n",
    "sum_of_numbers(100)"
   ]
  },
  {
   "cell_type": "code",
   "execution_count": 51,
   "metadata": {},
   "outputs": [
    {
     "data": {
      "text/plain": [
       "25"
      ]
     },
     "execution_count": 51,
     "metadata": {},
     "output_type": "execute_result"
    }
   ],
   "source": [
    "# Declare a function named sum_of_odds. It takes a number parameter and it adds all the odd numbers in that range.\n",
    "def sum_of_odds(num):\n",
    "    total = 0\n",
    "    for i in range(0, num + 1):\n",
    "        if i % 2 != 0:\n",
    "            total += i\n",
    "    return total\n",
    "\n",
    "sum_of_odds(10)"
   ]
  },
  {
   "cell_type": "code",
   "execution_count": 52,
   "metadata": {},
   "outputs": [
    {
     "data": {
      "text/plain": [
       "2550"
      ]
     },
     "execution_count": 52,
     "metadata": {},
     "output_type": "execute_result"
    }
   ],
   "source": [
    "# Declare a function named sum_of_even. It takes a number parameter and it adds all the even numbers in that - range.\n",
    "def sum_of_even(num):\n",
    "    total = 0\n",
    "    for i in range(0, num + 1):\n",
    "        if i % 2 == 0:\n",
    "            total += i\n",
    "    return total\n",
    "\n",
    "sum_of_even(100)"
   ]
  }
 ],
 "metadata": {
  "kernelspec": {
   "display_name": "Python 3",
   "language": "python",
   "name": "python3"
  },
  "language_info": {
   "codemirror_mode": {
    "name": "ipython",
    "version": 3
   },
   "file_extension": ".py",
   "mimetype": "text/x-python",
   "name": "python",
   "nbconvert_exporter": "python",
   "pygments_lexer": "ipython3",
   "version": "3.12.2"
  }
 },
 "nbformat": 4,
 "nbformat_minor": 2
}
