{
 "cells": [
  {
   "cell_type": "code",
   "execution_count": 8,
   "metadata": {},
   "outputs": [
    {
     "name": "stdout",
     "output_type": "stream",
     "text": [
      "Please wait 8 years to drive\n"
     ]
    }
   ],
   "source": [
    "# Conditionals, Level 1.\n",
    "\n",
    "\"\"\"\n",
    "Question:\n",
    "Get user input using input(“Enter your age: ”). If user is 18 or older, give feedback: You are old enough to drive. If below 18 give feedback to wait for the missing amount of years.\n",
    "\"\"\"\n",
    "\n",
    "age_input = int(input('Enter your age: '))\n",
    "\n",
    "if age_input >= 18:\n",
    "    print(\"You are old enough to drive\")\n",
    "else:\n",
    "    rem = 18 - age_input\n",
    "    print(f\"Please wait {rem} years to drive\")"
   ]
  },
  {
   "cell_type": "code",
   "execution_count": 12,
   "metadata": {},
   "outputs": [
    {
     "name": "stdout",
     "output_type": "stream",
     "text": [
      "You are 6 years older than me\n"
     ]
    }
   ],
   "source": [
    "\"\"\"\n",
    "Question:\n",
    "Compare the values of my_age and your_age using if … else. Who is older (me or you)? Use input(“Enter your age: ”) to get the age as input. You can use a nested condition to print 'year' for 1 year difference in age, 'years' for bigger differences, and a custom text if my_age = your_age. Output:\n",
    "\"\"\"\n",
    "\n",
    "my_age = 24\n",
    "your_age = int(input('Enter your age: '))\n",
    "\n",
    "if my_age > your_age:\n",
    "    print(f'I am {my_age - your_age} years older than you')\n",
    "elif my_age == your_age:\n",
    "    print(f'We are of the same age!')\n",
    "else:\n",
    "    print(f'You are {your_age - my_age} years older than me')\n"
   ]
  },
  {
   "cell_type": "code",
   "execution_count": 17,
   "metadata": {},
   "outputs": [
    {
     "name": "stdout",
     "output_type": "stream",
     "text": [
      "10 is equal to 10\n"
     ]
    }
   ],
   "source": [
    "\"\"\"\n",
    "Get two numbers from the user using input prompt. If a is greater than b return a is greater than b, if a is less b return a is smaller than b, else a is equal to b. Output:\n",
    "\"\"\"\n",
    "\n",
    "a = int(input('Enter a:'))\n",
    "b = int(input('Enter b:'))\n",
    "\n",
    "if a > b:\n",
    "    print(f'{a} is greater than {b}')\n",
    "elif b > a:\n",
    "    print(f'{b} is greater than {a}')\n",
    "else:\n",
    "    print(f'{a} is equal to {b}')"
   ]
  },
  {
   "cell_type": "code",
   "execution_count": 18,
   "metadata": {},
   "outputs": [
    {
     "data": {
      "text/plain": [
       "[0,\n",
       " 1,\n",
       " 2,\n",
       " 3,\n",
       " 4,\n",
       " 5,\n",
       " 6,\n",
       " 7,\n",
       " 8,\n",
       " 9,\n",
       " 10,\n",
       " 11,\n",
       " 12,\n",
       " 13,\n",
       " 14,\n",
       " 15,\n",
       " 16,\n",
       " 17,\n",
       " 18,\n",
       " 19,\n",
       " 20,\n",
       " 21,\n",
       " 22,\n",
       " 23,\n",
       " 24,\n",
       " 25,\n",
       " 26,\n",
       " 27,\n",
       " 28,\n",
       " 29]"
      ]
     },
     "execution_count": 18,
     "metadata": {},
     "output_type": "execute_result"
    }
   ],
   "source": [
    "numbers = [i for i in range(0, 30)]\n",
    "numbers"
   ]
  },
  {
   "cell_type": "code",
   "execution_count": 19,
   "metadata": {},
   "outputs": [
    {
     "name": "stdout",
     "output_type": "stream",
     "text": [
      "True\n",
      "False\n",
      "True\n",
      "False\n",
      "True\n",
      "False\n",
      "True\n",
      "False\n",
      "True\n",
      "False\n",
      "True\n",
      "False\n",
      "True\n",
      "False\n",
      "True\n",
      "False\n",
      "True\n",
      "False\n",
      "True\n",
      "False\n",
      "True\n",
      "False\n",
      "True\n",
      "False\n",
      "True\n",
      "False\n",
      "True\n",
      "False\n",
      "True\n",
      "False\n"
     ]
    }
   ],
   "source": [
    "for i in numbers:\n",
    "    if i % 2 == 0:\n",
    "        print(True)\n",
    "    else:\n",
    "        print(False)\n"
   ]
  }
 ],
 "metadata": {
  "kernelspec": {
   "display_name": "Python 3",
   "language": "python",
   "name": "python3"
  },
  "language_info": {
   "codemirror_mode": {
    "name": "ipython",
    "version": 3
   },
   "file_extension": ".py",
   "mimetype": "text/x-python",
   "name": "python",
   "nbconvert_exporter": "python",
   "pygments_lexer": "ipython3",
   "version": "3.12.2"
  }
 },
 "nbformat": 4,
 "nbformat_minor": 2
}
