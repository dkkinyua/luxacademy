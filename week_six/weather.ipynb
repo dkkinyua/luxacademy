{
 "cells": [
  {
   "cell_type": "code",
   "execution_count": 2,
   "metadata": {},
   "outputs": [],
   "source": [
    "import os\n",
    "import requests\n",
    "from dotenv import load_dotenv"
   ]
  },
  {
   "cell_type": "code",
   "execution_count": 3,
   "metadata": {},
   "outputs": [],
   "source": [
    "api_key = os.getenv(\"API_KEY\")\n",
    "city_name = 'Nairobi'\n",
    "url = f\"https://api.openweathermap.org/data/2.5/weather?q={city_name}&appid={api_key}\""
   ]
  },
  {
   "cell_type": "code",
   "execution_count": null,
   "metadata": {},
   "outputs": [
    {
     "data": {
      "text/plain": [
       "{'coord': {'lon': 36.8167, 'lat': -1.2833},\n",
       " 'weather': [{'id': 803,\n",
       "   'main': 'Clouds',\n",
       "   'description': 'broken clouds',\n",
       "   'icon': '04n'}],\n",
       " 'base': 'stations',\n",
       " 'main': {'temp': 291.77,\n",
       "  'feels_like': 291.83,\n",
       "  'temp_min': 291.77,\n",
       "  'temp_max': 291.77,\n",
       "  'pressure': 1017,\n",
       "  'humidity': 82,\n",
       "  'sea_level': 1017,\n",
       "  'grnd_level': 838},\n",
       " 'visibility': 10000,\n",
       " 'wind': {'speed': 3.09, 'deg': 180},\n",
       " 'clouds': {'all': 75},\n",
       " 'dt': 1746465164,\n",
       " 'sys': {'type': 1,\n",
       "  'id': 2543,\n",
       "  'country': 'KE',\n",
       "  'sunrise': 1746415646,\n",
       "  'sunset': 1746459081},\n",
       " 'timezone': 10800,\n",
       " 'id': 184745,\n",
       " 'name': 'Nairobi',\n",
       " 'cod': 200}"
      ]
     },
     "execution_count": 7,
     "metadata": {},
     "output_type": "execute_result"
    }
   ],
   "source": [
    "response = requests.get(url)\n",
    "if response.status_code == 200:\n",
    "    data = response.json()\n",
    "    print(data)\n",
    "else:\n",
    "    print(f\"Error loading data: {response.status_code}\")"
   ]
  },
  {
   "cell_type": "code",
   "execution_count": null,
   "metadata": {},
   "outputs": [],
   "source": []
  }
 ],
 "metadata": {
  "kernelspec": {
   "display_name": "myenv",
   "language": "python",
   "name": "python3"
  },
  "language_info": {
   "codemirror_mode": {
    "name": "ipython",
    "version": 3
   },
   "file_extension": ".py",
   "mimetype": "text/x-python",
   "name": "python",
   "nbconvert_exporter": "python",
   "pygments_lexer": "ipython3",
   "version": "3.12.2"
  }
 },
 "nbformat": 4,
 "nbformat_minor": 2
}
