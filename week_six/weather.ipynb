{
 "cells": [
  {
   "cell_type": "code",
   "execution_count": 1,
   "metadata": {},
   "outputs": [],
   "source": [
    "import os\n",
    "import requests\n",
    "import pandas as pd\n",
    "from dotenv import load_dotenv\n",
    "from sqlalchemy import create_engine, text\n",
    "from eazyetl import Load"
   ]
  },
  {
   "cell_type": "code",
   "execution_count": 2,
   "metadata": {},
   "outputs": [],
   "source": [
    "load_dotenv()\n",
    "api_key = os.getenv(\"API_KEY\")\n",
    "city_name = 'Nairobi'\n",
    "url = f\"https://api.openweathermap.org/data/2.5/weather?q={city_name}&appid={api_key}\""
   ]
  },
  {
   "cell_type": "code",
   "execution_count": 3,
   "metadata": {},
   "outputs": [
    {
     "name": "stdout",
     "output_type": "stream",
     "text": [
      "light rain\n"
     ]
    }
   ],
   "source": [
    "response = requests.get(url)\n",
    "if response.status_code == 200:\n",
    "    data = response.json()\n",
    "    city = data.get('name')\n",
    "    temperature = data['main']['temp']\n",
    "    humidity = data['main']['humidity']\n",
    "    description = data['weather'][0]['description']\n",
    "    print(description)\n",
    "else:\n",
    "    print(f\"Error loading data: {response.status_code}\")"
   ]
  },
  {
   "cell_type": "code",
   "execution_count": 4,
   "metadata": {},
   "outputs": [
    {
     "data": {
      "text/plain": [
       "{'coord': {'lon': 36.8167, 'lat': -1.2833},\n",
       " 'weather': [{'id': 500,\n",
       "   'main': 'Rain',\n",
       "   'description': 'light rain',\n",
       "   'icon': '10d'}],\n",
       " 'base': 'stations',\n",
       " 'main': {'temp': 295.71,\n",
       "  'feels_like': 295.64,\n",
       "  'temp_min': 295.71,\n",
       "  'temp_max': 295.71,\n",
       "  'pressure': 1014,\n",
       "  'humidity': 62,\n",
       "  'sea_level': 1014,\n",
       "  'grnd_level': 839},\n",
       " 'visibility': 10000,\n",
       " 'wind': {'speed': 2.98, 'deg': 128, 'gust': 2.92},\n",
       " 'rain': {'1h': 0.6},\n",
       " 'clouds': {'all': 97},\n",
       " 'dt': 1746527142,\n",
       " 'sys': {'country': 'KE', 'sunrise': 1746502043, 'sunset': 1746545476},\n",
       " 'timezone': 10800,\n",
       " 'id': 184745,\n",
       " 'name': 'Nairobi',\n",
       " 'cod': 200}"
      ]
     },
     "execution_count": 4,
     "metadata": {},
     "output_type": "execute_result"
    }
   ],
   "source": [
    "data"
   ]
  },
  {
   "cell_type": "code",
   "execution_count": 5,
   "metadata": {},
   "outputs": [
    {
     "data": {
      "text/html": [
       "<div>\n",
       "<style scoped>\n",
       "    .dataframe tbody tr th:only-of-type {\n",
       "        vertical-align: middle;\n",
       "    }\n",
       "\n",
       "    .dataframe tbody tr th {\n",
       "        vertical-align: top;\n",
       "    }\n",
       "\n",
       "    .dataframe thead th {\n",
       "        text-align: right;\n",
       "    }\n",
       "</style>\n",
       "<table border=\"1\" class=\"dataframe\">\n",
       "  <thead>\n",
       "    <tr style=\"text-align: right;\">\n",
       "      <th></th>\n",
       "      <th>City</th>\n",
       "      <th>Description</th>\n",
       "      <th>Humidity</th>\n",
       "      <th>Temperature</th>\n",
       "    </tr>\n",
       "  </thead>\n",
       "  <tbody>\n",
       "    <tr>\n",
       "      <th>0</th>\n",
       "      <td>Nairobi</td>\n",
       "      <td>light rain</td>\n",
       "      <td>62</td>\n",
       "      <td>295.71</td>\n",
       "    </tr>\n",
       "  </tbody>\n",
       "</table>\n",
       "</div>"
      ],
      "text/plain": [
       "      City Description  Humidity  Temperature\n",
       "0  Nairobi  light rain        62       295.71"
      ]
     },
     "execution_count": 5,
     "metadata": {},
     "output_type": "execute_result"
    }
   ],
   "source": [
    "df = pd.DataFrame({\n",
    "    'City': [city],\n",
    "    'Description': [description],\n",
    "    'Humidity': [humidity],\n",
    "    'Temperature': [temperature]\n",
    "}, )\n",
    "\n",
    "df.head()"
   ]
  },
  {
   "cell_type": "markdown",
   "metadata": {},
   "source": []
  },
  {
   "cell_type": "code",
   "execution_count": 6,
   "metadata": {},
   "outputs": [
    {
     "name": "stdout",
     "output_type": "stream",
     "text": [
      "(0, 'Nairobi', 'light rain', 62, 295.71)\n"
     ]
    }
   ],
   "source": [
    "# Load our data into a PostgreSQL database\n",
    "\n",
    "DB_CONN_URL=os.getenv(\"DB_CONN_URL\")\n",
    "# print(DB_CONN_URL)\n",
    "\n",
    "engine = create_engine(f\"{DB_CONN_URL}\")\n",
    "try:\n",
    "    df.to_sql(name='nbo_data', con=engine, schema='public', if_exists='replace', index=True)\n",
    "    connection = engine.connect()\n",
    "    query = connection.execute(text('SELECT * FROM public.nbo_data LIMIT 5')) # test to see if the table is created.\n",
    "    for row in query:\n",
    "        print(row)\n",
    "    connection.close()\n",
    "\n",
    "except Exception as e:\n",
    "    print(f\"Error: {str(e)}\")\n",
    "\n"
   ]
  }
 ],
 "metadata": {
  "kernelspec": {
   "display_name": "myenv",
   "language": "python",
   "name": "python3"
  },
  "language_info": {
   "codemirror_mode": {
    "name": "ipython",
    "version": 3
   },
   "file_extension": ".py",
   "mimetype": "text/x-python",
   "name": "python",
   "nbconvert_exporter": "python",
   "pygments_lexer": "ipython3",
   "version": "3.12.2"
  }
 },
 "nbformat": 4,
 "nbformat_minor": 2
}
